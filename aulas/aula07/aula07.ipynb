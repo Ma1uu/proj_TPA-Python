{
 "cells": [
  {
   "cell_type": "markdown",
   "metadata": {},
   "source": [
    "# Aula 07 - Manipulação de Strings com Python"
   ]
  },
  {
   "cell_type": "markdown",
   "metadata": {},
   "source": [
    "> Uma variável primaria de texto é chamada de char ou caractér possibilitando o armazenamento de 8 bit de memória. Quando necessitamos de um conjunto de caracteres utilizamos um objeto, ou variáveis compostas no caso da maioria das linguagens chamadas de strings. Vamos ver como se aplica. "
   ]
  },
  {
   "cell_type": "code",
   "execution_count": 109,
   "metadata": {},
   "outputs": [
    {
     "name": "stdout",
     "output_type": "stream",
     "text": [
      "boa tarde a todos\n",
      "boa tarde\n"
     ]
    }
   ],
   "source": [
    "frase = \"boa tarde a todos\"\n",
    "print(frase)\n",
    "saudacao = frase[0:9]\n",
    "print(saudacao)"
   ]
  },
  {
   "cell_type": "code",
   "execution_count": 110,
   "metadata": {},
   "outputs": [
    {
     "name": "stdout",
     "output_type": "stream",
     "text": [
      "<class 'str'>\n",
      "<class 'str'>\n"
     ]
    }
   ],
   "source": [
    "print(type(frase))\n",
    "print(type(saudacao))"
   ]
  },
  {
   "cell_type": "code",
   "execution_count": 111,
   "metadata": {},
   "outputs": [
    {
     "name": "stdout",
     "output_type": "stream",
     "text": [
      "3\n",
      "1\n"
     ]
    }
   ],
   "source": [
    "print(frase.count(' '))\n",
    "print(saudacao.count(' '))"
   ]
  },
  {
   "cell_type": "code",
   "execution_count": 112,
   "metadata": {},
   "outputs": [
    {
     "name": "stdout",
     "output_type": "stream",
     "text": [
      "17\n",
      "9\n"
     ]
    }
   ],
   "source": [
    "print(len(frase))\n",
    "print(len(saudacao))"
   ]
  },
  {
   "cell_type": "code",
   "execution_count": 113,
   "metadata": {},
   "outputs": [
    {
     "name": "stdout",
     "output_type": "stream",
     "text": [
      "boa tarde galerinha!\n",
      "boa noite\n"
     ]
    }
   ],
   "source": [
    "frase = frase.replace('a todos','galerinha!')\n",
    "print(frase)\n",
    "saudacao = saudacao.replace('tarde', 'noite')\n",
    "print(saudacao)"
   ]
  },
  {
   "cell_type": "code",
   "execution_count": 114,
   "metadata": {},
   "outputs": [
    {
     "name": "stdout",
     "output_type": "stream",
     "text": [
      "['b', 'o', 'a', ' ', 't', 'a', 'r', 'd', 'e', ' ', 'g', 'a', 'l', 'e', 'r', 'i', 'n', 'h', 'a', '!']\n"
     ]
    }
   ],
   "source": [
    "frase = [i for i in frase]\n",
    "print(frase)"
   ]
  },
  {
   "cell_type": "code",
   "execution_count": 115,
   "metadata": {},
   "outputs": [
    {
     "name": "stdout",
     "output_type": "stream",
     "text": [
      "b\n",
      "o\n",
      "a\n",
      " \n",
      "t\n",
      "a\n",
      "r\n",
      "d\n",
      "e\n",
      " \n",
      "g\n",
      "a\n",
      "l\n",
      "e\n",
      "r\n",
      "i\n",
      "n\n",
      "h\n",
      "a\n",
      "!\n"
     ]
    }
   ],
   "source": [
    "for x in frase:\n",
    "    print(x)"
   ]
  },
  {
   "cell_type": "markdown",
   "metadata": {},
   "source": [
    "## Exercício 1"
   ]
  },
  {
   "cell_type": "markdown",
   "metadata": {},
   "source": [
    "> Crie um código para a seguinte frase: \"Sabia que o sabiá sabia assobiar\", reparticionado por espaços, após isso crie um print format para visualizar cada palavra em uma coluna separada."
   ]
  },
  {
   "cell_type": "code",
   "execution_count": 116,
   "metadata": {},
   "outputs": [
    {
     "name": "stdout",
     "output_type": "stream",
     "text": [
      "Sabia    |    que    |    o    |    sabiá    |    sabia    |    assobiar\n"
     ]
    }
   ],
   "source": [
    "sabia = \"Sabia que o sabiá sabia assobiar\"\n",
    "sabia = sabia.replace(' ', '    |    ')\n",
    "print(sabia)"
   ]
  },
  {
   "cell_type": "code",
   "execution_count": 117,
   "metadata": {},
   "outputs": [
    {
     "name": "stdout",
     "output_type": "stream",
     "text": [
      "Sabia\n",
      "que\n",
      "o\n",
      "sabiá\n",
      "sabia\n",
      "assobiar\n"
     ]
    }
   ],
   "source": [
    "sabia = \"Sabia que o sabiá sabia assobiar\"\n",
    "palavras = sabia.split()\n",
    "\n",
    "for x in palavras:\n",
    "    print(x)"
   ]
  },
  {
   "cell_type": "markdown",
   "metadata": {},
   "source": [
    "### Correção"
   ]
  },
  {
   "cell_type": "code",
   "execution_count": 118,
   "metadata": {},
   "outputs": [
    {
     "name": "stdout",
     "output_type": "stream",
     "text": [
      "S q o s s a \n",
      "a u   a a s \n",
      "b e   b b s \n",
      "i     i i o \n",
      "a     á a b \n",
      "          i \n",
      "          a \n",
      "          r \n"
     ]
    }
   ],
   "source": [
    "frase = \"Sabia que o sabiá sabia assobiar\"\n",
    "\n",
    "palavras = frase.split()\n",
    "\n",
    "for i in range(max(len(x) for x in palavras)):\n",
    "    for y in palavras:\n",
    "        print(y[i] if i < len(y) else ' ', end = ' ')\n",
    "\n",
    "    print()"
   ]
  },
  {
   "cell_type": "code",
   "execution_count": 119,
   "metadata": {},
   "outputs": [
    {
     "name": "stdout",
     "output_type": "stream",
     "text": [
      "S q o s s a\n",
      "a u   a a s\n",
      "b e   b b s\n",
      "i     i i o\n",
      "a     á a b\n",
      "          i\n",
      "          a\n",
      "          r\n"
     ]
    }
   ],
   "source": [
    "for i in range(max (len (x) for x in palavras)):\n",
    "    print(' '.join(x[i] if i<len(x) else ' ' for x in palavras))"
   ]
  },
  {
   "cell_type": "markdown",
   "metadata": {},
   "source": [
    "# Introdução a Numpy"
   ]
  },
  {
   "cell_type": "markdown",
   "metadata": {},
   "source": [
    "> Numpy é uma biblioteca python para desenvolvimento de matrizes. tem por objetivos facilitar na criação de algoritmos matemáticos para solucionar paradgimas avançados em relação a arrays. "
   ]
  },
  {
   "cell_type": "code",
   "execution_count": 124,
   "metadata": {},
   "outputs": [
    {
     "name": "stdout",
     "output_type": "stream",
     "text": [
      "Collecting numpy\n",
      "  Downloading numpy-2.1.1-cp312-cp312-win_amd64.whl.metadata (59 kB)\n",
      "     ---------------------------------------- 0.0/59.7 kB ? eta -:--:--\n",
      "     ------------- ------------------------ 20.5/59.7 kB 640.0 kB/s eta 0:00:01\n",
      "     ---------------------------------------- 59.7/59.7 kB 1.1 MB/s eta 0:00:00\n",
      "Downloading numpy-2.1.1-cp312-cp312-win_amd64.whl (12.6 MB)\n",
      "   ---------------------------------------- 0.0/12.6 MB ? eta -:--:--\n",
      "   ---------------------------------------- 0.0/12.6 MB 1.9 MB/s eta 0:00:07\n",
      "   ---------------------------------------- 0.1/12.6 MB 1.6 MB/s eta 0:00:08\n",
      "    --------------------------------------- 0.2/12.6 MB 1.3 MB/s eta 0:00:10\n",
      "    --------------------------------------- 0.2/12.6 MB 1.4 MB/s eta 0:00:10\n",
      "    --------------------------------------- 0.3/12.6 MB 1.4 MB/s eta 0:00:10\n",
      "   - -------------------------------------- 0.4/12.6 MB 1.4 MB/s eta 0:00:09\n",
      "   - -------------------------------------- 0.4/12.6 MB 1.3 MB/s eta 0:00:10\n",
      "   - -------------------------------------- 0.5/12.6 MB 1.3 MB/s eta 0:00:10\n",
      "   - -------------------------------------- 0.5/12.6 MB 1.3 MB/s eta 0:00:10\n",
      "   - -------------------------------------- 0.6/12.6 MB 1.3 MB/s eta 0:00:09\n",
      "   -- ------------------------------------- 0.7/12.6 MB 1.4 MB/s eta 0:00:09\n",
      "   -- ------------------------------------- 0.7/12.6 MB 1.3 MB/s eta 0:00:09\n",
      "   -- ------------------------------------- 0.8/12.6 MB 1.4 MB/s eta 0:00:09\n",
      "   -- ------------------------------------- 0.8/12.6 MB 1.4 MB/s eta 0:00:09\n",
      "   -- ------------------------------------- 0.8/12.6 MB 1.4 MB/s eta 0:00:09\n",
      "   -- ------------------------------------- 0.8/12.6 MB 1.4 MB/s eta 0:00:09\n",
      "   -- ------------------------------------- 0.8/12.6 MB 1.4 MB/s eta 0:00:09\n",
      "   -- ------------------------------------- 0.8/12.6 MB 1.4 MB/s eta 0:00:09\n",
      "   -- ------------------------------------- 0.9/12.6 MB 994.7 kB/s eta 0:00:12\n",
      "   --- ------------------------------------ 1.1/12.6 MB 1.2 MB/s eta 0:00:10\n",
      "   --- ------------------------------------ 1.2/12.6 MB 1.2 MB/s eta 0:00:10\n",
      "   --- ------------------------------------ 1.2/12.6 MB 1.2 MB/s eta 0:00:10\n",
      "   ---- ----------------------------------- 1.3/12.6 MB 1.2 MB/s eta 0:00:10\n",
      "   ---- ----------------------------------- 1.3/12.6 MB 1.2 MB/s eta 0:00:10\n",
      "   ---- ----------------------------------- 1.4/12.6 MB 1.2 MB/s eta 0:00:09\n",
      "   ---- ----------------------------------- 1.6/12.6 MB 1.3 MB/s eta 0:00:09\n",
      "   ----- ---------------------------------- 1.6/12.6 MB 1.3 MB/s eta 0:00:09\n",
      "   ----- ---------------------------------- 1.7/12.6 MB 1.3 MB/s eta 0:00:09\n",
      "   ----- ---------------------------------- 1.8/12.6 MB 1.3 MB/s eta 0:00:08\n",
      "   ----- ---------------------------------- 1.9/12.6 MB 1.3 MB/s eta 0:00:08\n",
      "   ------ --------------------------------- 1.9/12.6 MB 1.3 MB/s eta 0:00:08\n",
      "   ------ --------------------------------- 2.0/12.6 MB 1.3 MB/s eta 0:00:08\n",
      "   ------ --------------------------------- 2.0/12.6 MB 1.3 MB/s eta 0:00:08\n",
      "   ------ --------------------------------- 2.1/12.6 MB 1.3 MB/s eta 0:00:08\n",
      "   ------ --------------------------------- 2.1/12.6 MB 1.3 MB/s eta 0:00:08\n",
      "   ------ --------------------------------- 2.2/12.6 MB 1.3 MB/s eta 0:00:08\n",
      "   ------- -------------------------------- 2.3/12.6 MB 1.3 MB/s eta 0:00:08\n",
      "   ------- -------------------------------- 2.3/12.6 MB 1.3 MB/s eta 0:00:08\n",
      "   ------- -------------------------------- 2.4/12.6 MB 1.3 MB/s eta 0:00:08\n",
      "   ------- -------------------------------- 2.4/12.6 MB 1.3 MB/s eta 0:00:08\n",
      "   ------- -------------------------------- 2.5/12.6 MB 1.3 MB/s eta 0:00:08\n",
      "   -------- ------------------------------- 2.6/12.6 MB 1.3 MB/s eta 0:00:08\n",
      "   -------- ------------------------------- 2.6/12.6 MB 1.3 MB/s eta 0:00:08\n",
      "   -------- ------------------------------- 2.7/12.6 MB 1.3 MB/s eta 0:00:08\n",
      "   -------- ------------------------------- 2.7/12.6 MB 1.3 MB/s eta 0:00:08\n",
      "   -------- ------------------------------- 2.7/12.6 MB 1.3 MB/s eta 0:00:08\n",
      "   -------- ------------------------------- 2.8/12.6 MB 1.3 MB/s eta 0:00:08\n",
      "   -------- ------------------------------- 2.8/12.6 MB 1.3 MB/s eta 0:00:08\n",
      "   --------- ------------------------------ 2.8/12.6 MB 1.3 MB/s eta 0:00:08\n",
      "   --------- ------------------------------ 2.9/12.6 MB 1.2 MB/s eta 0:00:08\n",
      "   --------- ------------------------------ 2.9/12.6 MB 1.2 MB/s eta 0:00:08\n",
      "   --------- ------------------------------ 2.9/12.6 MB 1.2 MB/s eta 0:00:08\n",
      "   --------- ------------------------------ 3.0/12.6 MB 1.2 MB/s eta 0:00:08\n",
      "   --------- ------------------------------ 3.0/12.6 MB 1.2 MB/s eta 0:00:08\n",
      "   --------- ------------------------------ 3.1/12.6 MB 1.2 MB/s eta 0:00:08\n",
      "   --------- ------------------------------ 3.1/12.6 MB 1.2 MB/s eta 0:00:08\n",
      "   --------- ------------------------------ 3.1/12.6 MB 1.2 MB/s eta 0:00:08\n",
      "   ---------- ----------------------------- 3.2/12.6 MB 1.2 MB/s eta 0:00:08\n",
      "   ---------- ----------------------------- 3.2/12.6 MB 1.2 MB/s eta 0:00:08\n",
      "   ---------- ----------------------------- 3.3/12.6 MB 1.2 MB/s eta 0:00:08\n",
      "   ---------- ----------------------------- 3.3/12.6 MB 1.2 MB/s eta 0:00:08\n",
      "   ---------- ----------------------------- 3.3/12.6 MB 1.2 MB/s eta 0:00:08\n",
      "   ---------- ----------------------------- 3.4/12.6 MB 1.2 MB/s eta 0:00:08\n",
      "   ---------- ----------------------------- 3.4/12.6 MB 1.2 MB/s eta 0:00:08\n",
      "   ----------- ---------------------------- 3.5/12.6 MB 1.2 MB/s eta 0:00:08\n",
      "   ----------- ---------------------------- 3.5/12.6 MB 1.1 MB/s eta 0:00:08\n",
      "   ----------- ---------------------------- 3.5/12.6 MB 1.1 MB/s eta 0:00:08\n",
      "   ----------- ---------------------------- 3.6/12.6 MB 1.1 MB/s eta 0:00:08\n",
      "   ----------- ---------------------------- 3.6/12.6 MB 1.1 MB/s eta 0:00:08\n",
      "   ----------- ---------------------------- 3.7/12.6 MB 1.1 MB/s eta 0:00:08\n",
      "   ----------- ---------------------------- 3.7/12.6 MB 1.1 MB/s eta 0:00:08\n",
      "   ----------- ---------------------------- 3.8/12.6 MB 1.1 MB/s eta 0:00:08\n",
      "   ------------ --------------------------- 3.8/12.6 MB 1.1 MB/s eta 0:00:08\n",
      "   ------------ --------------------------- 3.9/12.6 MB 1.1 MB/s eta 0:00:08\n",
      "   ------------ --------------------------- 3.9/12.6 MB 1.1 MB/s eta 0:00:08\n",
      "   ------------ --------------------------- 4.0/12.6 MB 1.1 MB/s eta 0:00:08\n",
      "   ------------ --------------------------- 4.0/12.6 MB 1.1 MB/s eta 0:00:08\n",
      "   ------------ --------------------------- 4.0/12.6 MB 1.1 MB/s eta 0:00:08\n",
      "   ------------- -------------------------- 4.1/12.6 MB 1.1 MB/s eta 0:00:08\n",
      "   ------------- -------------------------- 4.1/12.6 MB 1.1 MB/s eta 0:00:08\n",
      "   ------------- -------------------------- 4.2/12.6 MB 1.1 MB/s eta 0:00:08\n",
      "   ------------- -------------------------- 4.2/12.6 MB 1.1 MB/s eta 0:00:08\n",
      "   ------------- -------------------------- 4.3/12.6 MB 1.1 MB/s eta 0:00:08\n",
      "   ------------- -------------------------- 4.3/12.6 MB 1.1 MB/s eta 0:00:08\n",
      "   ------------- -------------------------- 4.3/12.6 MB 1.1 MB/s eta 0:00:08\n",
      "   ------------- -------------------------- 4.4/12.6 MB 1.1 MB/s eta 0:00:08\n",
      "   -------------- ------------------------- 4.5/12.6 MB 1.1 MB/s eta 0:00:08\n",
      "   -------------- ------------------------- 4.5/12.6 MB 1.1 MB/s eta 0:00:08\n",
      "   -------------- ------------------------- 4.6/12.6 MB 1.1 MB/s eta 0:00:08\n",
      "   -------------- ------------------------- 4.6/12.6 MB 1.1 MB/s eta 0:00:08\n",
      "   --------------- ------------------------ 4.7/12.6 MB 1.1 MB/s eta 0:00:07\n",
      "   --------------- ------------------------ 4.8/12.6 MB 1.1 MB/s eta 0:00:07\n",
      "   --------------- ------------------------ 5.0/12.6 MB 1.1 MB/s eta 0:00:07\n",
      "   ---------------- ----------------------- 5.1/12.6 MB 1.2 MB/s eta 0:00:07\n",
      "   ---------------- ----------------------- 5.2/12.6 MB 1.2 MB/s eta 0:00:07\n",
      "   ---------------- ----------------------- 5.3/12.6 MB 1.2 MB/s eta 0:00:07\n",
      "   ----------------- ---------------------- 5.4/12.6 MB 1.2 MB/s eta 0:00:06\n",
      "   ----------------- ---------------------- 5.5/12.6 MB 1.2 MB/s eta 0:00:06\n",
      "   ----------------- ---------------------- 5.6/12.6 MB 1.2 MB/s eta 0:00:06\n",
      "   ------------------ --------------------- 5.7/12.6 MB 1.2 MB/s eta 0:00:06\n",
      "   ------------------ --------------------- 5.8/12.6 MB 1.2 MB/s eta 0:00:06\n",
      "   ------------------ --------------------- 5.9/12.6 MB 1.3 MB/s eta 0:00:06\n",
      "   ------------------- -------------------- 6.1/12.6 MB 1.3 MB/s eta 0:00:06\n",
      "   ------------------- -------------------- 6.1/12.6 MB 1.3 MB/s eta 0:00:06\n",
      "   ------------------- -------------------- 6.3/12.6 MB 1.3 MB/s eta 0:00:05\n",
      "   -------------------- ------------------- 6.4/12.6 MB 1.3 MB/s eta 0:00:05\n",
      "   -------------------- ------------------- 6.5/12.6 MB 1.3 MB/s eta 0:00:05\n",
      "   --------------------- ------------------ 6.6/12.6 MB 1.3 MB/s eta 0:00:05\n",
      "   --------------------- ------------------ 6.7/12.6 MB 1.3 MB/s eta 0:00:05\n",
      "   --------------------- ------------------ 6.8/12.6 MB 1.3 MB/s eta 0:00:05\n",
      "   ---------------------- ----------------- 6.9/12.6 MB 1.3 MB/s eta 0:00:05\n",
      "   ---------------------- ----------------- 7.0/12.6 MB 1.3 MB/s eta 0:00:05\n",
      "   ---------------------- ----------------- 7.1/12.6 MB 1.4 MB/s eta 0:00:04\n",
      "   ----------------------- ---------------- 7.2/12.6 MB 1.4 MB/s eta 0:00:04\n",
      "   ----------------------- ---------------- 7.4/12.6 MB 1.4 MB/s eta 0:00:04\n",
      "   ----------------------- ---------------- 7.5/12.6 MB 1.4 MB/s eta 0:00:04\n",
      "   ------------------------ --------------- 7.6/12.6 MB 1.4 MB/s eta 0:00:04\n",
      "   ------------------------ --------------- 7.7/12.6 MB 1.4 MB/s eta 0:00:04\n",
      "   ------------------------ --------------- 7.8/12.6 MB 1.4 MB/s eta 0:00:04\n",
      "   ------------------------- -------------- 7.9/12.6 MB 1.4 MB/s eta 0:00:04\n",
      "   ------------------------- -------------- 8.0/12.6 MB 1.4 MB/s eta 0:00:04\n",
      "   ------------------------- -------------- 8.1/12.6 MB 1.4 MB/s eta 0:00:04\n",
      "   -------------------------- ------------- 8.3/12.6 MB 1.4 MB/s eta 0:00:03\n",
      "   -------------------------- ------------- 8.4/12.6 MB 1.5 MB/s eta 0:00:03\n",
      "   --------------------------- ------------ 8.5/12.6 MB 1.5 MB/s eta 0:00:03\n",
      "   --------------------------- ------------ 8.6/12.6 MB 1.5 MB/s eta 0:00:03\n",
      "   --------------------------- ------------ 8.7/12.6 MB 1.5 MB/s eta 0:00:03\n",
      "   ---------------------------- ----------- 8.8/12.6 MB 1.5 MB/s eta 0:00:03\n",
      "   ---------------------------- ----------- 8.9/12.6 MB 1.5 MB/s eta 0:00:03\n",
      "   ---------------------------- ----------- 8.9/12.6 MB 1.5 MB/s eta 0:00:03\n",
      "   ---------------------------- ----------- 9.0/12.6 MB 1.5 MB/s eta 0:00:03\n",
      "   ---------------------------- ----------- 9.1/12.6 MB 1.5 MB/s eta 0:00:03\n",
      "   ----------------------------- ---------- 9.1/12.6 MB 1.5 MB/s eta 0:00:03\n",
      "   ----------------------------- ---------- 9.1/12.6 MB 1.5 MB/s eta 0:00:03\n",
      "   ----------------------------- ---------- 9.2/12.6 MB 1.5 MB/s eta 0:00:03\n",
      "   ----------------------------- ---------- 9.3/12.6 MB 1.5 MB/s eta 0:00:03\n",
      "   ----------------------------- ---------- 9.4/12.6 MB 1.5 MB/s eta 0:00:03\n",
      "   ----------------------------- ---------- 9.4/12.6 MB 1.5 MB/s eta 0:00:03\n",
      "   ------------------------------ --------- 9.5/12.6 MB 1.5 MB/s eta 0:00:03\n",
      "   ------------------------------ --------- 9.5/12.6 MB 1.5 MB/s eta 0:00:03\n",
      "   ------------------------------ --------- 9.6/12.6 MB 1.5 MB/s eta 0:00:03\n",
      "   ------------------------------ --------- 9.7/12.6 MB 1.5 MB/s eta 0:00:02\n",
      "   ------------------------------ --------- 9.7/12.6 MB 1.5 MB/s eta 0:00:02\n",
      "   ------------------------------- -------- 9.8/12.6 MB 1.5 MB/s eta 0:00:02\n",
      "   ------------------------------- -------- 9.8/12.6 MB 1.5 MB/s eta 0:00:02\n",
      "   ------------------------------- -------- 9.9/12.6 MB 1.5 MB/s eta 0:00:02\n",
      "   ------------------------------- -------- 10.0/12.6 MB 1.5 MB/s eta 0:00:02\n",
      "   ------------------------------- -------- 10.0/12.6 MB 1.5 MB/s eta 0:00:02\n",
      "   -------------------------------- ------- 10.1/12.6 MB 1.5 MB/s eta 0:00:02\n",
      "   -------------------------------- ------- 10.1/12.6 MB 1.5 MB/s eta 0:00:02\n",
      "   -------------------------------- ------- 10.2/12.6 MB 1.5 MB/s eta 0:00:02\n",
      "   -------------------------------- ------- 10.3/12.6 MB 1.4 MB/s eta 0:00:02\n",
      "   -------------------------------- ------- 10.3/12.6 MB 1.4 MB/s eta 0:00:02\n",
      "   -------------------------------- ------- 10.4/12.6 MB 1.5 MB/s eta 0:00:02\n",
      "   --------------------------------- ------ 10.4/12.6 MB 1.4 MB/s eta 0:00:02\n",
      "   --------------------------------- ------ 10.5/12.6 MB 1.5 MB/s eta 0:00:02\n",
      "   --------------------------------- ------ 10.6/12.6 MB 1.4 MB/s eta 0:00:02\n",
      "   --------------------------------- ------ 10.6/12.6 MB 1.5 MB/s eta 0:00:02\n",
      "   --------------------------------- ------ 10.7/12.6 MB 1.4 MB/s eta 0:00:02\n",
      "   ---------------------------------- ----- 10.7/12.6 MB 1.4 MB/s eta 0:00:02\n",
      "   ---------------------------------- ----- 10.8/12.6 MB 1.5 MB/s eta 0:00:02\n",
      "   ---------------------------------- ----- 10.9/12.6 MB 1.5 MB/s eta 0:00:02\n",
      "   ---------------------------------- ----- 10.9/12.6 MB 1.4 MB/s eta 0:00:02\n",
      "   ---------------------------------- ----- 11.0/12.6 MB 1.4 MB/s eta 0:00:02\n",
      "   ----------------------------------- ---- 11.0/12.6 MB 1.4 MB/s eta 0:00:02\n",
      "   ----------------------------------- ---- 11.0/12.6 MB 1.4 MB/s eta 0:00:02\n",
      "   ----------------------------------- ---- 11.0/12.6 MB 1.4 MB/s eta 0:00:02\n",
      "   ----------------------------------- ---- 11.1/12.6 MB 1.5 MB/s eta 0:00:01\n",
      "   ----------------------------------- ---- 11.2/12.6 MB 1.5 MB/s eta 0:00:01\n",
      "   ----------------------------------- ---- 11.2/12.6 MB 1.5 MB/s eta 0:00:01\n",
      "   ----------------------------------- ---- 11.2/12.6 MB 1.5 MB/s eta 0:00:01\n",
      "   ----------------------------------- ---- 11.3/12.6 MB 1.4 MB/s eta 0:00:01\n",
      "   ------------------------------------ --- 11.3/12.6 MB 1.4 MB/s eta 0:00:01\n",
      "   ------------------------------------ --- 11.4/12.6 MB 1.4 MB/s eta 0:00:01\n",
      "   ------------------------------------ --- 11.4/12.6 MB 1.4 MB/s eta 0:00:01\n",
      "   ------------------------------------ --- 11.5/12.6 MB 1.4 MB/s eta 0:00:01\n",
      "   ------------------------------------ --- 11.5/12.6 MB 1.4 MB/s eta 0:00:01\n",
      "   ------------------------------------- -- 11.7/12.6 MB 1.4 MB/s eta 0:00:01\n",
      "   ------------------------------------- -- 11.8/12.6 MB 1.4 MB/s eta 0:00:01\n",
      "   ------------------------------------- -- 11.9/12.6 MB 1.4 MB/s eta 0:00:01\n",
      "   -------------------------------------- - 12.0/12.6 MB 1.4 MB/s eta 0:00:01\n",
      "   -------------------------------------- - 12.1/12.6 MB 1.4 MB/s eta 0:00:01\n",
      "   -------------------------------------- - 12.2/12.6 MB 1.5 MB/s eta 0:00:01\n",
      "   ---------------------------------------  12.3/12.6 MB 1.5 MB/s eta 0:00:01\n",
      "   ---------------------------------------  12.4/12.6 MB 1.5 MB/s eta 0:00:01\n",
      "   ---------------------------------------  12.5/12.6 MB 1.5 MB/s eta 0:00:01\n",
      "   ---------------------------------------- 12.6/12.6 MB 1.5 MB/s eta 0:00:00\n",
      "Installing collected packages: numpy\n",
      "Successfully installed numpy-2.1.1\n",
      "Note: you may need to restart the kernel to use updated packages.\n"
     ]
    },
    {
     "name": "stderr",
     "output_type": "stream",
     "text": [
      "  WARNING: The scripts f2py.exe and numpy-config.exe are installed in 'c:\\Users\\aluno\\AppData\\Local\\Programs\\Python\\Python312\\Scripts' which is not on PATH.\n",
      "  Consider adding this directory to PATH or, if you prefer to suppress this warning, use --no-warn-script-location.\n",
      "\n",
      "[notice] A new release of pip is available: 24.0 -> 24.2\n",
      "[notice] To update, run: python.exe -m pip install --upgrade pip\n"
     ]
    }
   ],
   "source": [
    "pip install numpy"
   ]
  },
  {
   "cell_type": "code",
   "execution_count": 125,
   "metadata": {},
   "outputs": [
    {
     "name": "stdout",
     "output_type": "stream",
     "text": [
      "[1 2 3]\n"
     ]
    }
   ],
   "source": [
    "import numpy as np\n",
    "a = np.array([1,2,3])\n",
    "print(a)"
   ]
  },
  {
   "cell_type": "code",
   "execution_count": 126,
   "metadata": {},
   "outputs": [
    {
     "name": "stdout",
     "output_type": "stream",
     "text": [
      "[[1 2 3]\n",
      " [4 5 6]]\n"
     ]
    }
   ],
   "source": [
    "b = np.array([(1,2,3), (4,5,6)])\n",
    "print(b)"
   ]
  },
  {
   "cell_type": "code",
   "execution_count": 127,
   "metadata": {},
   "outputs": [
    {
     "name": "stdout",
     "output_type": "stream",
     "text": [
      "[[1. 1. 1.]\n",
      " [1. 1. 1.]\n",
      " [1. 1. 1.]]\n"
     ]
    }
   ],
   "source": [
    "c = np.ones((3,3))\n",
    "print(c)"
   ]
  },
  {
   "cell_type": "code",
   "execution_count": 128,
   "metadata": {},
   "outputs": [
    {
     "name": "stdout",
     "output_type": "stream",
     "text": [
      "[[1. 0. 0. 0. 0.]\n",
      " [0. 1. 0. 0. 0.]\n",
      " [0. 0. 1. 0. 0.]\n",
      " [0. 0. 0. 1. 0.]\n",
      " [0. 0. 0. 0. 1.]]\n"
     ]
    }
   ],
   "source": [
    "d = np.eye(5)\n",
    "print(d)"
   ]
  },
  {
   "cell_type": "code",
   "execution_count": 131,
   "metadata": {},
   "outputs": [
    {
     "name": "stdout",
     "output_type": "stream",
     "text": [
      "3\n",
      "6\n",
      "1.0\n"
     ]
    }
   ],
   "source": [
    "print(a.max())\n",
    "print(b.max())\n",
    "print(c.max())\n"
   ]
  },
  {
   "cell_type": "code",
   "execution_count": 132,
   "metadata": {},
   "outputs": [
    {
     "name": "stdout",
     "output_type": "stream",
     "text": [
      "1\n",
      "1\n",
      "1.0\n"
     ]
    }
   ],
   "source": [
    "print(a.min())\n",
    "print(b.min())\n",
    "print(c.min())\n"
   ]
  },
  {
   "cell_type": "code",
   "execution_count": 133,
   "metadata": {},
   "outputs": [
    {
     "name": "stdout",
     "output_type": "stream",
     "text": [
      "6\n",
      "21\n",
      "9.0\n"
     ]
    }
   ],
   "source": [
    "print(a.sum())\n",
    "print(b.sum())\n",
    "print(c.sum())"
   ]
  },
  {
   "cell_type": "markdown",
   "metadata": {},
   "source": [
    "> Para calcular média"
   ]
  },
  {
   "cell_type": "code",
   "execution_count": 134,
   "metadata": {},
   "outputs": [
    {
     "name": "stdout",
     "output_type": "stream",
     "text": [
      "2.0\n",
      "3.5\n",
      "1.0\n"
     ]
    }
   ],
   "source": [
    "print(a.mean())\n",
    "print(b.mean())\n",
    "print(c.mean())"
   ]
  },
  {
   "cell_type": "markdown",
   "metadata": {},
   "source": [
    "> Para desvio padrão"
   ]
  },
  {
   "cell_type": "code",
   "execution_count": 138,
   "metadata": {},
   "outputs": [
    {
     "name": "stdout",
     "output_type": "stream",
     "text": [
      "0.82\n",
      "1.71\n",
      "0.0\n"
     ]
    }
   ],
   "source": [
    "print(round(a.std(),2))\n",
    "print(round(b.std(),2))\n",
    "print(round(c.std(),2))"
   ]
  },
  {
   "cell_type": "markdown",
   "metadata": {},
   "source": [
    "## Exercício 2"
   ]
  },
  {
   "cell_type": "markdown",
   "metadata": {},
   "source": [
    "> Crie uma matriz chamada contar com os números de 0 até 9. Ao final crie uma contagem, média e desvio padrão dessa matriz. Para adicionar de zero a 9 utilize um for e depois atribua à matriz."
   ]
  },
  {
   "cell_type": "code",
   "execution_count": 149,
   "metadata": {},
   "outputs": [
    {
     "ename": "TypeError",
     "evalue": "'builtin_function_or_method' object is not subscriptable",
     "output_type": "error",
     "traceback": [
      "\u001b[1;31m---------------------------------------------------------------------------\u001b[0m",
      "\u001b[1;31mTypeError\u001b[0m                                 Traceback (most recent call last)",
      "Cell \u001b[1;32mIn[149], line 1\u001b[0m\n\u001b[1;32m----> 1\u001b[0m contar \u001b[38;5;241m=\u001b[39m \u001b[43mnp\u001b[49m\u001b[38;5;241;43m.\u001b[39;49m\u001b[43marray\u001b[49m\u001b[43m \u001b[49m\u001b[43m[\u001b[49m\u001b[38;5;241;43m0\u001b[39;49m\u001b[43m,\u001b[49m\u001b[38;5;241;43m1\u001b[39;49m\u001b[43m,\u001b[49m\u001b[38;5;241;43m2\u001b[39;49m\u001b[43m,\u001b[49m\u001b[38;5;241;43m3\u001b[39;49m\u001b[43m,\u001b[49m\u001b[38;5;241;43m4\u001b[39;49m\u001b[43m,\u001b[49m\u001b[38;5;241;43m5\u001b[39;49m\u001b[43m,\u001b[49m\u001b[38;5;241;43m6\u001b[39;49m\u001b[43m,\u001b[49m\u001b[38;5;241;43m7\u001b[39;49m\u001b[43m,\u001b[49m\u001b[38;5;241;43m8\u001b[39;49m\u001b[43m,\u001b[49m\u001b[38;5;241;43m9\u001b[39;49m\u001b[43m]\u001b[49m\n\u001b[0;32m      2\u001b[0m \u001b[38;5;28mprint\u001b[39m(contar)\n\u001b[0;32m      3\u001b[0m \u001b[38;5;28mprint\u001b[39m(contar\u001b[38;5;241m.\u001b[39mmin())\n",
      "\u001b[1;31mTypeError\u001b[0m: 'builtin_function_or_method' object is not subscriptable"
     ]
    }
   ],
   "source": [
    "contar = np.array [0,1,2,3,4,5,6,7,8,9]\n",
    "print(contar)\n",
    "print(contar.min())\n",
    "print(contar.max())\n",
    "print(contar.mean())\n",
    "print(round(contar.std(),2))"
   ]
  },
  {
   "cell_type": "code",
   "execution_count": null,
   "metadata": {},
   "outputs": [],
   "source": []
  }
 ],
 "metadata": {
  "kernelspec": {
   "display_name": "Python 3",
   "language": "python",
   "name": "python3"
  },
  "language_info": {
   "codemirror_mode": {
    "name": "ipython",
    "version": 3
   },
   "file_extension": ".py",
   "mimetype": "text/x-python",
   "name": "python",
   "nbconvert_exporter": "python",
   "pygments_lexer": "ipython3",
   "version": "3.12.2"
  }
 },
 "nbformat": 4,
 "nbformat_minor": 2
}
