{
 "cells": [
  {
   "cell_type": "markdown",
   "metadata": {},
   "source": [
    "# Aula 03 - Manipulação de Dados com Python"
   ]
  },
  {
   "cell_type": "markdown",
   "metadata": {},
   "source": [
    "## Revisão das ultimas aulas"
   ]
  },
  {
   "cell_type": "markdown",
   "metadata": {},
   "source": [
    "Nas ultimas aulas aprendemos sobre estruturas de decisão e laços de repetição em Python. Vamos relembrar."
   ]
  },
  {
   "cell_type": "markdown",
   "metadata": {},
   "source": [
    "### Estruturas de decisão:"
   ]
  },
  {
   "cell_type": "code",
   "execution_count": 12,
   "metadata": {},
   "outputs": [
    {
     "name": "stdout",
     "output_type": "stream",
     "text": [
      "reprovado\n"
     ]
    }
   ],
   "source": [
    "b1 = 2\n",
    "b2 = 5\n",
    "b3 = 3\n",
    "b4 = 7\n",
    "media = (b1+b2+b3+b4)/4\n",
    "if(media>=7):\n",
    "  print(\"aprovado\")\n",
    "elif(media>=5):\n",
    "  print(\"Recuperação\")\n",
    "else:\n",
    "  print(\"reprovado\")"
   ]
  },
  {
   "cell_type": "markdown",
   "metadata": {},
   "source": [
    "### Laços de repetição"
   ]
  },
  {
   "cell_type": "code",
   "execution_count": 15,
   "metadata": {},
   "outputs": [
    {
     "name": "stdout",
     "output_type": "stream",
     "text": [
      "Reprovado\n"
     ]
    }
   ],
   "source": [
    "b = [2,5,3,7]\n",
    "x = 0\n",
    "for y in b:\n",
    "  x += y\n",
    "x /= 4\n",
    "\n",
    "if(x>=7):\n",
    "  print(\"Aprovado\")\n",
    "elif(x>=5):\n",
    "  print(\"Recuperação\")\n",
    "else:\n",
    "  print(\"Reprovado\")\n",
    "  "
   ]
  },
  {
   "cell_type": "markdown",
   "metadata": {},
   "source": [
    "### Listas"
   ]
  },
  {
   "cell_type": "code",
   "execution_count": 16,
   "metadata": {},
   "outputs": [
    {
     "name": "stdout",
     "output_type": "stream",
     "text": [
      "[2, 5, 3, 7]\n"
     ]
    }
   ],
   "source": [
    "print(b)"
   ]
  },
  {
   "cell_type": "code",
   "execution_count": 17,
   "metadata": {},
   "outputs": [
    {
     "name": "stdout",
     "output_type": "stream",
     "text": [
      "[2, 3, 5, 7]\n"
     ]
    }
   ],
   "source": [
    "b.sort()\n",
    "print(b)"
   ]
  },
  {
   "cell_type": "code",
   "execution_count": 23,
   "metadata": {},
   "outputs": [
    {
     "name": "stdout",
     "output_type": "stream",
     "text": [
      "[3, 5, 7, 10]\n"
     ]
    }
   ],
   "source": [
    "b.append(2)\n",
    "b.remove(2)\n",
    "b.remove(10)\n",
    "print(b)"
   ]
  },
  {
   "cell_type": "code",
   "execution_count": 24,
   "metadata": {},
   "outputs": [
    {
     "name": "stdout",
     "output_type": "stream",
     "text": [
      "[10, 7, 5, 3]\n"
     ]
    }
   ],
   "source": [
    "b.reverse()\n",
    "print(b)"
   ]
  },
  {
   "cell_type": "code",
   "execution_count": 32,
   "metadata": {},
   "outputs": [
    {
     "name": "stdout",
     "output_type": "stream",
     "text": [
      "7\n"
     ]
    }
   ],
   "source": [
    "print(b[1])"
   ]
  },
  {
   "cell_type": "markdown",
   "metadata": {},
   "source": [
    "##### (Obs: O Python não repete uma ação de ordenar, se executou uma vez ele não executa de novo)"
   ]
  },
  {
   "cell_type": "markdown",
   "metadata": {},
   "source": [
    "### Exercício 1"
   ]
  },
  {
   "cell_type": "markdown",
   "metadata": {},
   "source": [
    "#### Crie um laço de repetição que faça a subtração de cada elemento da lista"
   ]
  },
  {
   "cell_type": "code",
   "execution_count": 46,
   "metadata": {},
   "outputs": [
    {
     "name": "stdout",
     "output_type": "stream",
     "text": [
      "[9, 6, 4, 2]\n"
     ]
    }
   ],
   "source": [
    "b = [10, 7, 5, 3]\n",
    "x = 1\n",
    "list = []\n",
    "for y in b:\n",
    "  y-=x\n",
    "  list.append(y)\n",
    "print(list)\n"
   ]
  },
  {
   "cell_type": "markdown",
   "metadata": {},
   "source": [
    "### Exercício 2"
   ]
  },
  {
   "cell_type": "markdown",
   "metadata": {},
   "source": [
    "### Crie um programa que verifica quando um valor da lista é par. Caso o valor for impar, o laço deve remove-lo. No final mostre apenas a lista com os pares."
   ]
  },
  {
   "cell_type": "code",
   "execution_count": 58,
   "metadata": {},
   "outputs": [
    {
     "name": "stdout",
     "output_type": "stream",
     "text": [
      "[2, 4, 8, 10]\n"
     ]
    }
   ],
   "source": [
    "a = [2,5,8,4,3,10,15]\n",
    "for y in a:\n",
    "  if(y%2==1):\n",
    "    a.remove(y)\n",
    "a.sort()\n",
    "print(a)"
   ]
  }
 ],
 "metadata": {
  "kernelspec": {
   "display_name": "Python 3",
   "language": "python",
   "name": "python3"
  },
  "language_info": {
   "codemirror_mode": {
    "name": "ipython",
    "version": 3
   },
   "file_extension": ".py",
   "mimetype": "text/x-python",
   "name": "python",
   "nbconvert_exporter": "python",
   "pygments_lexer": "ipython3",
   "version": "3.12.2"
  }
 },
 "nbformat": 4,
 "nbformat_minor": 2
}
