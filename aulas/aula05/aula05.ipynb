{
 "cells": [
  {
   "cell_type": "markdown",
   "metadata": {},
   "source": [
    "# Aula 05 - Introdução ao List Comprehension e Format"
   ]
  },
  {
   "cell_type": "markdown",
   "metadata": {},
   "source": [
    "> Nessa aula iremos dar introdução ao list comprehension, uma forma mais simples de realizar \n",
    "conversões de valores entre duas ou mais listas. Atualmente é uma das formas mais simples de \n",
    "aplicar conversões, substituindo as declarações mais extensas do que o metodo convensional, Lamda e o Map."
   ]
  },
  {
   "cell_type": "markdown",
   "metadata": {},
   "source": [
    "### Exemplo 1 - Conversão de Celsius para Fahrenheit"
   ]
  },
  {
   "cell_type": "code",
   "execution_count": 2,
   "metadata": {},
   "outputs": [
    {
     "name": "stdout",
     "output_type": "stream",
     "text": [
      "[50.0, 68.0, 75.2, 95.0, 122.0]\n"
     ]
    }
   ],
   "source": [
    "celsius = [10,20,24,35,50]\n",
    "fahrenheit = [round(x*1.8+32,2) for x in celsius]\n",
    "print(fahrenheit)"
   ]
  },
  {
   "cell_type": "markdown",
   "metadata": {},
   "source": [
    "### Exemplo 2 - Comversão de Kmh para Mph"
   ]
  },
  {
   "cell_type": "code",
   "execution_count": 5,
   "metadata": {},
   "outputs": [
    {
     "name": "stdout",
     "output_type": "stream",
     "text": [
      "[18.64, 24.86, 31.07, 37.28, 62.14]\n"
     ]
    }
   ],
   "source": [
    "Kph = [30,40,50,60,100]\n",
    "Mph = [round(x/1.6093,2) for x in Kph]\n",
    "print(Mph)"
   ]
  },
  {
   "cell_type": "code",
   "execution_count": 10,
   "metadata": {},
   "outputs": [
    {
     "name": "stdout",
     "output_type": "stream",
     "text": [
      "Kph   Mph   \n",
      "============\n",
      "30    18.64 \n",
      "40    24.86 \n",
      "50    31.07 \n",
      "60    37.28 \n",
      "100   62.14 \n",
      "============\n"
     ]
    }
   ],
   "source": [
    "print(\"{:<6}{:<6}\".format(\"Kph\",\"Mph\"))\n",
    "print(\"============\")\n",
    "x = 0\n",
    "while (x<len(Kph)):\n",
    "    print(\"{:<6}{:<6}\".format(Kph[x],Mph[x]))\n",
    "    x+=1\n",
    "print(\"============\")\n"
   ]
  },
  {
   "cell_type": "code",
   "execution_count": 17,
   "metadata": {},
   "outputs": [
    {
     "name": "stdout",
     "output_type": "stream",
     "text": [
      "celsius   fahrenheit\n",
      "========+=============\n",
      "10         50.0         \n",
      "20         68.0         \n",
      "24         75.2         \n",
      "35         95.0         \n",
      "50         122.0        \n",
      "========+=============\n"
     ]
    }
   ],
   "source": [
    "print(\"{:<10}{:<6}\".format(\"celsius\",\"fahrenheit\"))\n",
    "print(\"========+=============\")\n",
    "x = 0\n",
    "while (x<len(celsius)):\n",
    "    print(\"{:<11}{:<13}\".format(celsius[x],fahrenheit[x]))\n",
    "    x+=1\n",
    "print(\"========+=============\")\n"
   ]
  },
  {
   "cell_type": "markdown",
   "metadata": {},
   "source": [
    "### Exercício 1"
   ]
  },
  {
   "cell_type": "markdown",
   "metadata": {},
   "source": [
    "> Crie uma lista com 10 valores em metros. Crie uma tabela de conversão para polegadas, pés, jardas e milhas marítmas. Listando o número da linha e o cabeçalho da tabela. "
   ]
  },
  {
   "cell_type": "code",
   "execution_count": 65,
   "metadata": {},
   "outputs": [
    {
     "name": "stdout",
     "output_type": "stream",
     "text": [
      "===================================================\n",
      "Metros  Polegadas  Pés    Jardas    Milhas Marítmas     \n",
      "======+==========+=======+=======+=================\n",
      "5       196.85     16.41   5.47    0.0                \n",
      "---------------------------------------------------\n",
      "10      393.7      32.81   10.94   0.01               \n",
      "---------------------------------------------------\n",
      "15      590.55     49.22   16.41   0.01               \n",
      "---------------------------------------------------\n",
      "30      1181.1     98.43   32.82   0.02               \n",
      "---------------------------------------------------\n",
      "50      1968.5     164.05  54.7    0.03               \n",
      "---------------------------------------------------\n",
      "60      2362.2     196.86  65.64   0.03               \n",
      "---------------------------------------------------\n",
      "70      2755.9     229.67  76.58   0.04               \n",
      "---------------------------------------------------\n",
      "80      3149.6     262.48  87.52   0.04               \n",
      "---------------------------------------------------\n",
      "90      3543.3     295.29  98.46   0.05               \n",
      "---------------------------------------------------\n",
      "100     3937.0     328.1   109.4   0.05               \n",
      "---------------------------------------------------\n",
      "======+==========+=======+=======+=================\n"
     ]
    }
   ],
   "source": [
    "metros = [5,10,15,30,50,60,70,80,90,100]\n",
    "metros.sort()\n",
    "polegadas = [round(x*39.37,2) for x in metros]\n",
    "pes = [round(x*3.281,2) for x in metros]\n",
    "jardas = [round(x*1.094,2) for x in metros]\n",
    "MiMaritmas = [round(x/1852,2) for x in metros]\n",
    "\n",
    "print(\"===================================================\")\n",
    "print(\"{:<8}{:<11}{:<7}{:<10}{:<20}\".format(\"Metros\",\"Polegadas\",\"Pés\",\"Jardas\",\"Milhas Marítmas\"))\n",
    "print(\"======+==========+=======+=======+=================\")\n",
    "\n",
    "x=0\n",
    "while (x<len(metros)):\n",
    "    print(\"{:<8}{:<11}{:<8}{:<8}{:<19}\".format(metros[x],polegadas[x],pes[x],jardas[x],MiMaritmas[x]))\n",
    "    x+=1\n",
    "    print(\"---------------------------------------------------\")\n",
    "print(\"======+==========+=======+=======+=================\")\n"
   ]
  },
  {
   "cell_type": "code",
   "execution_count": 102,
   "metadata": {},
   "outputs": [
    {
     "name": "stdout",
     "output_type": "stream",
     "text": [
      "==========================================================\n",
      "n°   Metros   Polegadas  Pés    Jardas    Milhas Marítmas     \n",
      "===+========+==========+======+========+==================\n",
      "1    5       196.85     16.41   5.47      0.0                 \n",
      "----------------------------------------------------------\n",
      "2    10      393.7      32.81   10.94     0.01                \n",
      "----------------------------------------------------------\n",
      "3    15      590.55     49.22   16.41     0.01                \n",
      "----------------------------------------------------------\n",
      "4    30      1181.1     98.43   32.82     0.02                \n",
      "----------------------------------------------------------\n",
      "5    50      1968.5     164.05  54.7      0.03                \n",
      "----------------------------------------------------------\n",
      "6    60      2362.2     196.86  65.64     0.03                \n",
      "----------------------------------------------------------\n",
      "7    70      2755.9     229.67  76.58     0.04                \n",
      "----------------------------------------------------------\n",
      "8    80      3149.6     262.48  87.52     0.04                \n",
      "----------------------------------------------------------\n",
      "9    90      3543.3     295.29  98.46     0.05                \n",
      "----------------------------------------------------------\n",
      "10   100     3937.0     328.1   109.4     0.05                \n",
      "----------------------------------------------------------\n",
      "===+========+==========+======+========+==================\n"
     ]
    }
   ],
   "source": [
    "metros = [5,10,15,30,50,60,70,80,90,100]\n",
    "metros.sort()\n",
    "polegadas = [round(x*39.37,2) for x in metros]\n",
    "pes = [round(x*3.281,2) for x in metros]\n",
    "jardas = [round(x*1.094,2) for x in metros]\n",
    "MiMaritmas = [round(x/1852,2) for x in metros]\n",
    "\n",
    "print(\"==========================================================\")\n",
    "print(\"{:<5}{:<9}{:<11}{:<7}{:<10}{:<20}\".format(\"n°\",\"Metros\",\"Polegadas\",\"Pés\",\"Jardas\",\"Milhas Marítmas\"))\n",
    "print(\"===+========+==========+======+========+==================\")\n",
    "\n",
    "for v in range(0,len(metros),1):\n",
    "    print(\"{:<5}{:<8}{:<11}{:<8}{:<10}{:<20}\".format(v+1,metros[v],polegadas[v],pes[v],jardas[v],MiMaritmas[v]))\n",
    "    print(\"----------------------------------------------------------\")\n",
    "print(\"===+========+==========+======+========+==================\")\n"
   ]
  },
  {
   "cell_type": "markdown",
   "metadata": {},
   "source": [
    "### Exercício 2"
   ]
  },
  {
   "cell_type": "markdown",
   "metadata": {},
   "source": [
    "> Crie uma lista com 10 valores em Kelvin. Crie uma tabela de conversão para Celsius e Fahrenheit, listando o número da linha e o cabeçalho"
   ]
  },
  {
   "cell_type": "code",
   "execution_count": 85,
   "metadata": {},
   "outputs": [
    {
     "name": "stdout",
     "output_type": "stream",
     "text": [
      "===============================\n",
      "Kelvin  Celsius    Fahrenheit\n",
      "======+=========+==============\n",
      "50      -223.15    -370    \n",
      "-------------------------------\n",
      "100     -173.15    -280    \n",
      "-------------------------------\n",
      "150     -123.15    -190    \n",
      "-------------------------------\n",
      "200     -73.15     -100    \n",
      "-------------------------------\n",
      "250     -23.15     -10     \n",
      "-------------------------------\n",
      "300     26.85      80      \n",
      "-------------------------------\n",
      "320     46.85      116     \n",
      "-------------------------------\n",
      "340     66.85      152     \n",
      "-------------------------------\n",
      "350     76.85      170     \n",
      "-------------------------------\n",
      "450     176.85     350     \n",
      "-------------------------------\n",
      "======+=========+==============\n"
     ]
    }
   ],
   "source": [
    "Kelvin = [50,100,150,200,250,300,320,340,350,450]\n",
    "Kelvin.sort()\n",
    "Celsius = [round(x-273.15,2) for x in Kelvin]\n",
    "Fahrenheit = [round(x*1.8+32) for x in Celsius]\n",
    "print(\"===============================\")\n",
    "print(\"{:<8}{:<11}{:<7}\".format(\"Kelvin\",\"Celsius\",\"Fahrenheit\"))\n",
    "print(\"======+=========+==============\")\n",
    "x=0\n",
    "while (x<len(Kelvin)):\n",
    "    print(\"{:<8}{:<11}{:<8}\".format(Kelvin[x],Celsius[x],Fahrenheit[x]))\n",
    "    x+=1\n",
    "    print(\"-------------------------------\")\n",
    "print(\"======+=========+==============\")"
   ]
  },
  {
   "cell_type": "code",
   "execution_count": 100,
   "metadata": {},
   "outputs": [
    {
     "name": "stdout",
     "output_type": "stream",
     "text": [
      "====================================\n",
      "N°   Kelvin   Celsius    Fahrenheit\n",
      "===+========+==========+============\n",
      "1    50      -223.15    -370   \n",
      "------------------------------------\n",
      "2    100     -173.15    -280   \n",
      "------------------------------------\n",
      "3    150     -123.15    -190   \n",
      "------------------------------------\n",
      "4    200     -73.15     -100   \n",
      "------------------------------------\n",
      "5    250     -23.15     -10    \n",
      "------------------------------------\n",
      "6    300     26.85      80     \n",
      "------------------------------------\n",
      "7    320     46.85      116    \n",
      "------------------------------------\n",
      "8    340     66.85      152    \n",
      "------------------------------------\n",
      "9    350     76.85      170    \n",
      "------------------------------------\n",
      "10   450     176.85     350    \n",
      "------------------------------------\n",
      "===+========+==========+============\n"
     ]
    }
   ],
   "source": [
    "Kelvin = [50,100,150,200,250,300,320,340,350,450]\n",
    "Kelvin.sort()\n",
    "Celsius = [round(x-273.15,2) for x in Kelvin]\n",
    "Fahrenheit = [round(x*1.8+32) for x in Celsius]\n",
    "print(\"====================================\")\n",
    "print(\"{:<5}{:<9}{:<11}{:<7}\".format(\"N°\",\"Kelvin\",\"Celsius\",\"Fahrenheit\"))\n",
    "print(\"===+========+==========+============\")\n",
    "\n",
    "for v in range(0,len(Kelvin),1):\n",
    "    print(\"{:<5}{:<8}{:<11}{:<7}\".format(v+1,Kelvin[v],Celsius[v],Fahrenheit[v]))\n",
    "    print(\"------------------------------------\")\n",
    "print(\"===+========+==========+============\")\n"
   ]
  },
  {
   "cell_type": "markdown",
   "metadata": {},
   "source": [
    "### Exercício 3\n",
    "> Crie uma lista com 10 pesos em Quilos. Faça a conversão para o peso na Terra, Lua, Jupiter, Saturno e Mercúrio. Monte uma tabela com o cabeçalho e a numeração conforme os exercícios passados"
   ]
  },
  {
   "cell_type": "markdown",
   "metadata": {},
   "source": []
  }
 ],
 "metadata": {
  "kernelspec": {
   "display_name": "Python 3",
   "language": "python",
   "name": "python3"
  },
  "language_info": {
   "codemirror_mode": {
    "name": "ipython",
    "version": 3
   },
   "file_extension": ".py",
   "mimetype": "text/x-python",
   "name": "python",
   "nbconvert_exporter": "python",
   "pygments_lexer": "ipython3",
   "version": "3.12.2"
  }
 },
 "nbformat": 4,
 "nbformat_minor": 2
}
