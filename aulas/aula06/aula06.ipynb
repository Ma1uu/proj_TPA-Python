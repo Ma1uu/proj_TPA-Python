{
 "cells": [
  {
   "cell_type": "markdown",
   "metadata": {},
   "source": [
    "# Aula 06 - Introdução a tuplas e dicionários"
   ]
  },
  {
   "cell_type": "code",
   "execution_count": 44,
   "metadata": {},
   "outputs": [
    {
     "name": "stdout",
     "output_type": "stream",
     "text": [
      "[2, 5, 9]\n"
     ]
    }
   ],
   "source": [
    "lista = [2,5,9]\n",
    "lista[1]\n",
    "print(lista)"
   ]
  },
  {
   "cell_type": "markdown",
   "metadata": {},
   "source": [
    "## Introdução a Tuplas\n",
    "> Imutável"
   ]
  },
  {
   "cell_type": "code",
   "execution_count": 45,
   "metadata": {},
   "outputs": [
    {
     "data": {
      "text/plain": [
       "8"
      ]
     },
     "execution_count": 45,
     "metadata": {},
     "output_type": "execute_result"
    }
   ],
   "source": [
    "tupla = (6,8,9)\n",
    "tupla[1]"
   ]
  },
  {
   "cell_type": "code",
   "execution_count": 46,
   "metadata": {},
   "outputs": [
    {
     "name": "stdout",
     "output_type": "stream",
     "text": [
      "[2, 5, 9, 7]\n"
     ]
    }
   ],
   "source": [
    "lista.append(7)\n",
    "print(lista)"
   ]
  },
  {
   "cell_type": "code",
   "execution_count": 47,
   "metadata": {},
   "outputs": [
    {
     "ename": "TypeError",
     "evalue": "can only concatenate tuple (not \"int\") to tuple",
     "output_type": "error",
     "traceback": [
      "\u001b[1;31m---------------------------------------------------------------------------\u001b[0m",
      "\u001b[1;31mTypeError\u001b[0m                                 Traceback (most recent call last)",
      "Cell \u001b[1;32mIn[47], line 2\u001b[0m\n\u001b[0;32m      1\u001b[0m tupla \u001b[38;5;241m=\u001b[39m (\u001b[38;5;241m1\u001b[39m,\u001b[38;5;241m5\u001b[39m,\u001b[38;5;241m8\u001b[39m)\n\u001b[1;32m----> 2\u001b[0m tupla \u001b[38;5;241m=\u001b[39m \u001b[43mtupla\u001b[49m\u001b[43m \u001b[49m\u001b[38;5;241;43m+\u001b[39;49m\u001b[43m \u001b[49m\u001b[38;5;241;43m1\u001b[39;49m\n\u001b[0;32m      3\u001b[0m tupla[\u001b[38;5;241m1\u001b[39m]\n",
      "\u001b[1;31mTypeError\u001b[0m: can only concatenate tuple (not \"int\") to tuple"
     ]
    }
   ],
   "source": [
    "tupla = (1,5,8)\n",
    "tupla = tupla + 1\n",
    "tupla[1]"
   ]
  },
  {
   "cell_type": "markdown",
   "metadata": {},
   "source": [
    "## Introdução a Dicionarios"
   ]
  },
  {
   "cell_type": "code",
   "execution_count": 22,
   "metadata": {},
   "outputs": [],
   "source": [
    "dicionario = {\n",
    "    'curso' : 'desenvolvimento de sistemas',\n",
    "    'ano' : 2024,\n",
    "    'módulo' : 'Técnicas de Programação e Algoritmo',\n",
    "    'Professor' : 'Gustavo'\n",
    "}"
   ]
  },
  {
   "cell_type": "code",
   "execution_count": 23,
   "metadata": {},
   "outputs": [
    {
     "name": "stdout",
     "output_type": "stream",
     "text": [
      "desenvolvimento de sistemas\n",
      "2024\n",
      "Técnicas de Programação e Algoritmo\n",
      "Gustavo\n"
     ]
    }
   ],
   "source": [
    "print(dicionario['curso'])\n",
    "print(dicionario['ano'])\n",
    "print(dicionario['módulo'])\n",
    "print(dicionario['Professor'])"
   ]
  },
  {
   "cell_type": "code",
   "execution_count": 24,
   "metadata": {},
   "outputs": [
    {
     "name": "stdout",
     "output_type": "stream",
     "text": [
      "9\n"
     ]
    }
   ],
   "source": [
    "dicionario['nota'] = 9\n",
    "print(dicionario['nota'])"
   ]
  },
  {
   "cell_type": "code",
   "execution_count": 25,
   "metadata": {},
   "outputs": [
    {
     "name": "stdout",
     "output_type": "stream",
     "text": [
      "desenvolvimento de sistemas\n",
      "2024\n",
      "Técnicas de Programação e Algoritmo\n",
      "Gustavo\n",
      "9\n"
     ]
    }
   ],
   "source": [
    "for x in dicionario.values():\n",
    "    print(x)"
   ]
  },
  {
   "cell_type": "code",
   "execution_count": 28,
   "metadata": {},
   "outputs": [
    {
     "name": "stdout",
     "output_type": "stream",
     "text": [
      "{}\n"
     ]
    }
   ],
   "source": [
    "dicionario.clear()\n",
    "print(dicionario)"
   ]
  },
  {
   "cell_type": "markdown",
   "metadata": {},
   "source": [
    "## Exercício 1"
   ]
  },
  {
   "cell_type": "markdown",
   "metadata": {},
   "source": [
    "> Crie 3 dicionarios: Matricula, Aluno e Diciplina.\n",
    "    > A Matricula terá código da matricula, data_inscrição e curso; Aluno terá registro e nome; A diciplina terá registro e professor. Ao final adicione os três dicionarios em uma tupla chamada escola"
   ]
  },
  {
   "cell_type": "code",
   "execution_count": 48,
   "metadata": {},
   "outputs": [],
   "source": [
    "matricula = {\n",
    "    'codigo' : '20056',\n",
    "    'data_inscriçao' : '01/01/24',\n",
    "    'curso' : 'D.S'\n",
    "}\n",
    "aluno = {\n",
    "    'registro' : '20056',\n",
    "    'nome' : 'Maria Luiza'\n",
    "}\n",
    "diciplina = {\n",
    "    'registro' : '20056',\n",
    "    'profesor' : 'Gustavo'\n",
    "}"
   ]
  },
  {
   "cell_type": "code",
   "execution_count": 37,
   "metadata": {},
   "outputs": [
    {
     "name": "stdout",
     "output_type": "stream",
     "text": [
      "({'codigo': '20056', 'data_inscriçao': '01/01/24', 'curso': 'D.S'}, {'registro': '20056', 'nome': 'Maria Luiza'}, {'registro': '20066', 'profesor': 'Gustavo'})\n"
     ]
    }
   ],
   "source": [
    "escola = (matricula, aluno, diciplina)\n",
    "print(escola)"
   ]
  },
  {
   "cell_type": "markdown",
   "metadata": {},
   "source": [
    "### Correção"
   ]
  },
  {
   "cell_type": "code",
   "execution_count": 49,
   "metadata": {},
   "outputs": [
    {
     "name": "stdout",
     "output_type": "stream",
     "text": [
      "{'codigo': 20056, 'inscriçao': '12/10/24', 'curso': 'D.S'}\n",
      "{'registro': 207070, 'nome': 'Maria Luiza'}\n",
      "{'registro': 101010, 'nome': 'Técnicas de Programação e algoritmo', 'prof': 'Gustavo'}\n"
     ]
    }
   ],
   "source": [
    "mat = {\n",
    "    'codigo' : 20056,\n",
    "    'inscriçao' : '12/10/24',\n",
    "    'curso' : 'D.S'\n",
    "}\n",
    "\n",
    "alu = {\n",
    "    'registro' : 207070,\n",
    "    'nome' : 'Maria Luiza'\n",
    "}\n",
    "\n",
    "dic = {\n",
    "    'registro' : 101010,\n",
    "    'nome' : 'Técnicas de Programação e algoritmo',\n",
    "    'prof' : 'Gustavo'\n",
    "}\n",
    "\n",
    "esco = (mat,alu,dic)\n",
    "for x in esco:\n",
    "    print(x)"
   ]
  },
  {
   "cell_type": "markdown",
   "metadata": {},
   "source": [
    "## Execícios 2\n",
    "> Crie três dicionarios para as seguimtes tabelas: vendedor, produto e venda. O vendedor terá registro, nome e admissão; o produto terá o ID, nome, fabricante; A venda terá reg_vendedor, id_produto e valor. Após a criação dos dicionários, adicionem a uma tupla chamada casas_baiano\n"
   ]
  },
  {
   "cell_type": "code",
   "execution_count": 2,
   "metadata": {},
   "outputs": [
    {
     "name": "stdout",
     "output_type": "stream",
     "text": [
      "{'registro': 304571, 'nome': 'Valter', 'admissão': '25/07/23'}\n",
      "{'ID': 983320, 'nome': 'pipoca', 'fabricante': 'Valter'}\n",
      "{'rej_vendedor': 193055, 'id_produto': 983320, 'valor': 'R$10,00'}\n"
     ]
    }
   ],
   "source": [
    "vendedor = {\n",
    "    'registro' : 304571,\n",
    "    'nome' : 'Valter',\n",
    "    'admissão' : '25/07/23'\n",
    "}\n",
    "\n",
    "produto = {\n",
    "    'ID' : 983320,\n",
    "    'nome' : 'pipoca',\n",
    "    'fabricante' : 'Valter'\n",
    "}\n",
    "\n",
    "venda = {\n",
    "    'rej_vendedor' : 193055,\n",
    "    'id_produto' : 983320,\n",
    "    'valor' : 'R$10,00'\n",
    "}\n",
    "\n",
    "casas_baiano = (vendedor,produto,venda)\n",
    "for x in casas_baiano:\n",
    "    print(x)"
   ]
  },
  {
   "cell_type": "code",
   "execution_count": null,
   "metadata": {},
   "outputs": [],
   "source": []
  }
 ],
 "metadata": {
  "kernelspec": {
   "display_name": "Python 3",
   "language": "python",
   "name": "python3"
  },
  "language_info": {
   "codemirror_mode": {
    "name": "ipython",
    "version": 3
   },
   "file_extension": ".py",
   "mimetype": "text/x-python",
   "name": "python",
   "nbconvert_exporter": "python",
   "pygments_lexer": "ipython3",
   "version": "3.11.9"
  }
 },
 "nbformat": 4,
 "nbformat_minor": 2
}
