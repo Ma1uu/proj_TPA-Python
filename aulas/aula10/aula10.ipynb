{
 "cells": [
  {
   "cell_type": "markdown",
   "metadata": {},
   "source": [
    "# Aula 10 - Introdução a Árvore Binária"
   ]
  },
  {
   "cell_type": "markdown",
   "metadata": {},
   "source": [
    "> Árvores Binárias são essenciais para organização de dados de forma alfabética ou numeral. Através de nós um valor é comparado a um nó inicial. após verificar se o valor é maior ou menor que o nó inicial. assim possibilita a organização de dados dentro de uma lista com o método sort(). Após isso ele se torna um nó podendo utilizar o método dentro dele mesmo, chamado de recursividade."
   ]
  },
  {
   "cell_type": "code",
   "execution_count": 108,
   "metadata": {},
   "outputs": [],
   "source": [
    "class No:\n",
    " def __init__(self, valor):\n",
    "  self.esquerda = None\n",
    "  self.direita = None\n",
    "  self.valor = valor  \n"
   ]
  },
  {
   "cell_type": "markdown",
   "metadata": {},
   "source": [
    "### Inserindo o Método Inserir"
   ]
  },
  {
   "cell_type": "code",
   "execution_count": 109,
   "metadata": {},
   "outputs": [],
   "source": [
    "#Método de inserir (se não há nenhum valor na árvore, o valor inserido vira o valor inicial)\n",
    "# Chave é o valor, Raiz é a seta que liga os valores\n",
    "def inserir(raiz, chave):\n",
    " if raiz is None:\n",
    "  return No(chave)\n",
    "#Recursividade (usa o método inserir nele mesmo) (os valores inseridos são comparados com o nó inicial)\n",
    " else:\n",
    "  if chave < raiz.valor:\n",
    "   raiz.esquerda = inserir(raiz.esquerda, chave)\n",
    "  else:\n",
    "   raiz.direita = inserir(raiz.direita, chave)\n",
    "\n",
    " return raiz\n"
   ]
  },
  {
   "cell_type": "markdown",
   "metadata": {},
   "source": [
    "### Método de Ordenação"
   ]
  },
  {
   "cell_type": "code",
   "execution_count": 110,
   "metadata": {},
   "outputs": [],
   "source": [
    "def ordenar(raiz):\n",
    " if raiz:\n",
    "  ordenar(raiz.esquerda)\n",
    "  print(raiz.valor, end=\"  \")\n",
    "  ordenar(raiz.direita)                            "
   ]
  },
  {
   "cell_type": "markdown",
   "metadata": {},
   "source": [
    "### Método Pincipal"
   ]
  },
  {
   "cell_type": "code",
   "execution_count": 111,
   "metadata": {},
   "outputs": [
    {
     "name": "stdout",
     "output_type": "stream",
     "text": [
      "em ordem:   0  1  2  6  7  8  10  \n"
     ]
    }
   ],
   "source": [
    "if __name__ == '__main__':\n",
    " raiz = None\n",
    " valores = [10, 7, 8, 6, 1, 2, 0]\n",
    "\n",
    " for x in valores:\n",
    "   raiz = inserir(raiz, x)\n",
    "\n",
    " print(\"em ordem: \", end = \"  \")\n",
    " ordenar(raiz)\n",
    " print()\n"
   ]
  },
  {
   "cell_type": "markdown",
   "metadata": {},
   "source": [
    "### Inserindo Valores Aleatórios"
   ]
  },
  {
   "cell_type": "code",
   "execution_count": 112,
   "metadata": {},
   "outputs": [
    {
     "name": "stdout",
     "output_type": "stream",
     "text": [
      "8\n"
     ]
    }
   ],
   "source": [
    "import random\n",
    "aleatorio = random.randint(1,10)\n",
    "print (aleatorio)"
   ]
  },
  {
   "cell_type": "markdown",
   "metadata": {},
   "source": [
    "### Exercício 1:"
   ]
  },
  {
   "cell_type": "markdown",
   "metadata": {},
   "source": [
    "> Crie um método que insira 10 valores aleatórios de 0 a 100. Após isso organize-os e mostre-os. "
   ]
  },
  {
   "cell_type": "code",
   "execution_count": 113,
   "metadata": {},
   "outputs": [
    {
     "name": "stdout",
     "output_type": "stream",
     "text": [
      "em ordem:   17  18  21  28  31  32  81  91  92  98  \n"
     ]
    }
   ],
   "source": [
    "import random as y\n",
    "\n",
    "if __name__ == '__main__':\n",
    " rais = None\n",
    " lista = []\n",
    "\n",
    " for x in range(10):\n",
    "  lista.append(y.randint(0,100))\n",
    "\n",
    " for x in lista:\n",
    "  rais = inserir(rais, x)\n",
    "\n",
    " print(\"em ordem: \", end = \"  \")\n",
    " ordenar(rais)\n",
    " print()"
   ]
  },
  {
   "cell_type": "markdown",
   "metadata": {},
   "source": [
    "### Exercício 2"
   ]
  },
  {
   "cell_type": "markdown",
   "metadata": {},
   "source": [
    "> Crie um método que insira 5 valores aleatórios de 0 a 10. após isso organiza-os de forma decrescente e mostre-os"
   ]
  },
  {
   "cell_type": "code",
   "execution_count": 114,
   "metadata": {},
   "outputs": [
    {
     "name": "stdout",
     "output_type": "stream",
     "text": [
      "em ordem:   7  4  2  1  0  \n"
     ]
    }
   ],
   "source": [
    "import random as y\n",
    "\n",
    "def inserir(raiz, chave):\n",
    " if raiz is None:\n",
    "  return No(chave)\n",
    " else:\n",
    "  if chave > raiz.valor:\n",
    "   raiz.esquerda = inserir(raiz.esquerda, chave)\n",
    "  else:\n",
    "   raiz.direita = inserir(raiz.direita, chave)\n",
    "\n",
    " return raiz\n",
    "\n",
    "if __name__ == '__main__':\n",
    " rais = None\n",
    " lista = []\n",
    "\n",
    " for x in range(5):\n",
    "  lista.append(y.randint(0,10))\n",
    "\n",
    " for x in lista:\n",
    "  rais = inserir(rais, x)\n",
    "\n",
    " print(\"em ordem: \", end = \"  \")\n",
    " ordenar(rais)\n",
    " print()"
   ]
  },
  {
   "cell_type": "code",
   "execution_count": null,
   "metadata": {},
   "outputs": [],
   "source": []
  }
 ],
 "metadata": {
  "kernelspec": {
   "display_name": "Python 3",
   "language": "python",
   "name": "python3"
  },
  "language_info": {
   "codemirror_mode": {
    "name": "ipython",
    "version": 3
   },
   "file_extension": ".py",
   "mimetype": "text/x-python",
   "name": "python",
   "nbconvert_exporter": "python",
   "pygments_lexer": "ipython3",
   "version": "3.12.2"
  }
 },
 "nbformat": 4,
 "nbformat_minor": 2
}
